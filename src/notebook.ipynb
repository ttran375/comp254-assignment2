{
 "cells": [
  {
   "cell_type": "markdown",
   "metadata": {},
   "source": [
    "# Lab Assignment #2 – Algorithm Analysis"
   ]
  },
  {
   "cell_type": "markdown",
   "metadata": {},
   "source": [
    "## Exercise 1"
   ]
  },
  {
   "cell_type": "markdown",
   "metadata": {},
   "source": [
    "**If your first name starts with a letter from A-J inclusively:**\n",
    "\n",
    "1. Give a big-Oh characterization, in terms of **n**, of the running\n",
    "    time of the **example1** method from **Exercises.java** class in\n",
    "    Lesson 4 examples.\n",
    "\n",
    "2. Give a big-Oh characterization, in terms of **n**, of the running\n",
    "    time of the **example2** method from **Exercises.java** class in\n",
    "    Lesson 4 examples.\n",
    "\n",
    "3. Give a big-Oh characterization, in terms of **n**, of the running\n",
    "    time of the **example3** method from **Exercises.java** class in\n",
    "    Lesson 4 examples.\n",
    "\n",
    "4. Give a big-Oh characterization, in terms of **n**, of the running\n",
    "    time of the **example4** method from **Exercises.java** class in\n",
    "    Lesson 4 examples.\n",
    "\n",
    "5. Give a big-Oh characterization, in terms of **n**, of the running\n",
    "    time of the **example5** method from **Exercises.java** class in\n",
    "    Lesson 4 examples.\n",
    "\n",
    "For each of the above questions, use comments in the code to provide the\n",
    "results and a brief explanation."
   ]
  },
  {
   "cell_type": "markdown",
   "metadata": {},
   "source": [
    "**If your first name starts with a letter from K-Z inclusively:**\n",
    "\n",
    "1. . Give a big-Oh characterization, in terms of **n**, of the running\n",
    "    time of the **example1** method from **Exercises2.java** class in\n",
    "    Lesson 4 examples.\n",
    "\n",
    "2. Give a big-Oh characterization, in terms of **n**, of the running\n",
    "    time of the **example2** method from **Exercises2.java** class in\n",
    "    Lesson 4 examples.\n",
    "\n",
    "3. Give a big-Oh characterization, in terms of **n**, of the running\n",
    "    time of the **example3** method from **Exercises.2java** class in\n",
    "    Lesson 4 examples.\n",
    "\n",
    "4. Give a big-Oh characterization, in terms of **n**, of the running\n",
    "    time of the **example4** method from **Exercises2.java** class in\n",
    "    Lesson 4 examples.\n",
    "\n",
    "5. Give a big-Oh characterization, in terms of **n**, of the running\n",
    "    time of the **example5** method from **Exercises2.java** class in\n",
    "    Lesson 4 examples."
   ]
  },
  {
   "cell_type": "markdown",
   "metadata": {},
   "source": [
    "## Exercise 2"
   ]
  },
  {
   "cell_type": "markdown",
   "metadata": {},
   "source": [
    "**If your first name starts with a letter from A-J inclusively:**\n",
    "\n",
    "Perform an **experimental analysis** of the two algorithms\n",
    "*prefixAverage1* and *prefixAverage2*, from lesson examples. Optionally,\n",
    "visualize their running times as **a function of the input size** with a\n",
    "**log-log chart**. Use either Java or Python graphical capabilities for\n",
    "visualization.\n",
    "\n",
    "**Hint**: Choose representative values of the input size **n**, similar\n",
    "to *StringExperiment.java* from class examples."
   ]
  },
  {
   "cell_type": "markdown",
   "metadata": {},
   "source": [
    "**If your first name starts with a letter from K-Z inclusively:**\n",
    "\n",
    "For each of the algorithms *unique1* and *unique2* (*Uniqueness.java*\n",
    "class in Lesson 4 examples) which solve the element uniqueness problem,\n",
    "perform an experimental analysis to determine the largest value of\n",
    "***n*** such that the given algorithm runs in one minute or less.\n",
    "\n",
    "**Hint**: Do a type of “binary search” to determine the maximum\n",
    "effective value of ***n*** for each algorithm."
   ]
  },
  {
   "cell_type": "markdown",
   "metadata": {},
   "source": [
    "## Exercise 3"
   ]
  },
  {
   "cell_type": "markdown",
   "metadata": {},
   "source": [
    "**If your first name starts with a letter from A-J inclusively:**\n",
    "\n",
    "An array A contains n−1 unique integers in the range \\[0,n−1\\], that is,\n",
    "there is one number from this range that is not in A. Design an\n",
    "O(n)-time algorithm for finding that number. You are only allowed to use\n",
    "O(1) additional space besides the array A itself. Write the java method\n",
    "that implements this algorithm and a main method to test it.\n",
    "\n",
    "**Hint:** Numbers in \\[0, n-1\\] form an arithmetic progression whose sum\n",
    "is known."
   ]
  },
  {
   "cell_type": "markdown",
   "metadata": {},
   "source": [
    "**If your first name starts with a letter from K-Z inclusively:**\n",
    "\n",
    "Given an array A of n arbitrary integers, design an O(n)-time algorithm\n",
    "for finding an integer that cannot be formed as the sum of two integers\n",
    "in A. Write the java method that implements this algorithm and a main\n",
    "method to test it.\n",
    "\n",
    "**Hint** The sum of every two integers in A is always less or equal to\n",
    "twice the maximum element."
   ]
  }
 ],
 "metadata": {
  "language_info": {
   "name": "python"
  }
 },
 "nbformat": 4,
 "nbformat_minor": 2
}
